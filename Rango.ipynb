{
 "cells": [
  {
   "cell_type": "code",
   "execution_count": 1,
   "metadata": {},
   "outputs": [],
   "source": [
    "import yaml\n",
    "import ipywidgets as widgets"
   ]
  },
  {
   "cell_type": "code",
   "execution_count": 2,
   "metadata": {},
   "outputs": [],
   "source": [
    "from IPython.display import display, clear_output, FileLink, FileLinks"
   ]
  },
  {
   "cell_type": "code",
   "execution_count": 3,
   "metadata": {},
   "outputs": [],
   "source": [
    "import pandas as pd"
   ]
  },
  {
   "cell_type": "code",
   "execution_count": 4,
   "metadata": {},
   "outputs": [],
   "source": [
    "#!jupyter nbextension enable --py widgetsnbextension --sys-prefix\n",
    "#!jupyter serverextension enable voila --sys-prefix"
   ]
  },
  {
   "cell_type": "code",
   "execution_count": 5,
   "metadata": {},
   "outputs": [],
   "source": [
    "receitas = yaml.load(open('receitas.yaml'), Loader = yaml.FullLoader)"
   ]
  },
  {
   "cell_type": "code",
   "execution_count": 6,
   "metadata": {},
   "outputs": [],
   "source": [
    "#receitas"
   ]
  },
  {
   "cell_type": "code",
   "execution_count": 7,
   "metadata": {},
   "outputs": [],
   "source": [
    "prato1 = receitas['lanches']['bolo de cenoura']"
   ]
  },
  {
   "cell_type": "code",
   "execution_count": 8,
   "metadata": {},
   "outputs": [],
   "source": [
    "prato2 = receitas['lanches']['torta de frango diet']"
   ]
  },
  {
   "cell_type": "code",
   "execution_count": 9,
   "metadata": {},
   "outputs": [],
   "source": [
    "todosIngredientes = prato1 + prato2"
   ]
  },
  {
   "cell_type": "code",
   "execution_count": 10,
   "metadata": {},
   "outputs": [],
   "source": [
    "dfTeste = pd.DataFrame(columns = ['Ingrediente','Quantidade','Unidade','Local'], data = todosIngredientes)"
   ]
  },
  {
   "cell_type": "code",
   "execution_count": 11,
   "metadata": {},
   "outputs": [],
   "source": [
    "b = receitas['lanches'].keys()\n",
    "c = receitas['lanches'].items()"
   ]
  },
  {
   "cell_type": "code",
   "execution_count": 12,
   "metadata": {},
   "outputs": [],
   "source": [
    "lanches = []\n",
    "for a in b:\n",
    "    lanches.append(a)"
   ]
  },
  {
   "cell_type": "code",
   "execution_count": 13,
   "metadata": {},
   "outputs": [],
   "source": [
    "ingredientes = []\n",
    "for a in b:\n",
    "    size = len(receitas['lanches'][a])\n",
    "    i = 0\n",
    "    for i in range(1,size):\n",
    "        ingrediente = receitas['lanches'][a][i][0]\n",
    "        ingredientes.append(ingrediente)\n",
    "        "
   ]
  },
  {
   "cell_type": "code",
   "execution_count": 14,
   "metadata": {},
   "outputs": [],
   "source": [
    "#ingredientes"
   ]
  },
  {
   "cell_type": "code",
   "execution_count": 61,
   "metadata": {},
   "outputs": [
    {
     "data": {
      "application/vnd.jupyter.widget-view+json": {
       "model_id": "9cf4c77c7f894fa69df196e5246f9920",
       "version_major": 2,
       "version_minor": 0
      },
      "text/plain": [
       "HBox(children=(VBox(children=(Label(value='Opção', layout=Layout(width='220px')), Checkbox(value=False, descri…"
      ]
     },
     "metadata": {},
     "output_type": "display_data"
    }
   ],
   "source": [
    "b = receitas['lanches'].keys()\n",
    "lanches = []\n",
    "for a in b:\n",
    "    lanches.append(a)\n",
    "# Criando uma lista de checkboxes com todos lanches possíveis\n",
    "    #obs: utiliza-se a técnica de list compreehension\n",
    "checkboxes = [widgets.Checkbox(value = False,indent = False,description = label,\n",
    "                              layout = widgets.Layout(width = '220px')) for label in lanches]\n",
    "    # Removendo o primeiro elemento da lista (campo nulo):\n",
    "checkboxes.pop(0)\n",
    "quantidades = [widgets.Dropdown(options = [i for i in range(1,11)],\n",
    "                               layout = widgets.Layout(width = '80px')) for i in range(len(checkboxes))]\n",
    "    # Inserindo título nas listas\n",
    "checkboxes.insert(0, widgets.Label(value ='Opção', layout = widgets.Layout(width = '220px')))\n",
    "quantidades.insert(0,widgets.Label(value = 'Quantidade', layout = widgets.Layout()))\n",
    "\n",
    "# Criando a estrutura de exibição\n",
    "opcoesLanche = widgets.VBox(checkboxes, layout = widgets.Layout(width = '250px'))\n",
    "opcoesQuantidade = widgets.VBox(quantidades,layout = widgets.Layout(layout = widgets.Layout()))\n",
    "estruturaLanches = widgets.HBox([opcoesLanche,opcoesQuantidade],layout = widgets.Layout(width = '350px'))\n",
    "estruturaLanches"
   ]
  },
  {
   "cell_type": "code",
   "execution_count": 16,
   "metadata": {},
   "outputs": [],
   "source": [
    "b = receitas['sucos'].keys()\n",
    "sucos = []\n",
    "for a in b:\n",
    "    sucos.append(a)\n",
    "    \n",
    "# Criando uma lista de checkboxes com todos lanches possíveis\n",
    "    #obs: utiliza-se a técnica de list compreehension\n",
    "sucosPossiveis = [widgets.Checkbox(value = False,description = label) for label in sucos]\n",
    "    # Removendo o primeiro elemento da lista (campo nulo):\n",
    "litros = [widgets.Dropdown(options = [i for i in range(1,11)]) for i in range(len(sucosPossiveis))]\n",
    "    # Inserindo título nas listas\n",
    "sucosPossiveis.insert(0, widgets.Label('Sabor',layout = widgets.Layout(width = '50%',\n",
    "                                                                          display=\"flex\", justify_content=\"flex-end\")))\n",
    "litros.insert(0,widgets.Label('Litros'))\n",
    "\n",
    "# Criando a estrutura de exibição\n",
    "opcoesSucos = widgets.VBox(sucosPossiveis)\n",
    "opcoesLitros = widgets.VBox(litros)\n",
    "estruturaSucos = widgets.HBox([opcoesSucos,opcoesLitros])"
   ]
  },
  {
   "cell_type": "code",
   "execution_count": 17,
   "metadata": {
    "scrolled": true
   },
   "outputs": [],
   "source": [
    "b = receitas['guarnicoes'].keys()\n",
    "guarnicoes = []\n",
    "for a in b:\n",
    "    guarnicoes.append(a)\n",
    "    \n",
    "b = receitas['carnes'].keys()\n",
    "carnes = []\n",
    "for a in b:\n",
    "    carnes.append(a)\n",
    "    \n",
    "b = receitas['saladas'].keys()\n",
    "saladas = []\n",
    "for a in b:\n",
    "    saladas.append(a)\n",
    "    \n",
    "# Quantos pratos o usuário poderá montar:    \n",
    "pratos = 7 \n",
    "    \n",
    "# Guarnicao 1\n",
    "guarnicao1 = [widgets.Dropdown(options = guarnicoes, layout=widgets.Layout(width='90%')) for i in range(pratos)]\n",
    "# Guarnicao 2\n",
    "guarnicao2 = [widgets.Dropdown(options = guarnicoes,layout=widgets.Layout(width='90%')) for i in range(pratos)]\n",
    "# Guarnicao 3\n",
    "guarnicao3 = [widgets.Dropdown(options = guarnicoes, layout=widgets.Layout(width='90%')) for i in range(pratos)]\n",
    "# Carne\n",
    "carne = [widgets.Dropdown(options = carnes, layout=widgets.Layout(width='90%')) for i in range(pratos)]\n",
    "# Salada\n",
    "salada = [widgets.Dropdown(options = saladas, layout=widgets.Layout(width='90%')) for i in range(pratos)]\n",
    "\n",
    "# Criando uma lista dos VBox \"monte seu prato\" e dos multiplicadores\n",
    "escolhas = []\n",
    "multiplicadores = []\n",
    "VBoxMulti = []\n",
    "for i in range(pratos):\n",
    "    escolhas.append(widgets.VBox([guarnicao1[i],guarnicao2[i],guarnicao3[i],carne[i],salada[i]],\n",
    "                         layout=widgets.Layout(width='100%')))\n",
    "    multiplicadores.append(widgets.Dropdown(options = [m for m in range(1,8)],layout=widgets.Layout(width='50%')))\n",
    "    VBoxMulti.append(widgets.VBox([widgets.Label('Refeicoes'), multiplicadores[i]]))\n",
    "\n",
    "# Criando uma lista de displays finais\n",
    "p= widgets.VBox([widgets.Label(value =\"Guarnição 1\"), widgets.Label(value =\"Guarnição 2\"),\n",
    "             widgets.Label(value =\"Guarnição 3\"),widgets.Label(value =\"Carne\"),\n",
    "             widgets.Label(value =\"Salada\")])\n",
    "VBox = [widgets.VBox([escolhas[i], VBoxMulti[i]]) for i in range(pratos)]\n",
    "\n",
    "displayFinal = [widgets.HBox([p,VBox[i]]) for i in range(pratos)]"
   ]
  },
  {
   "cell_type": "code",
   "execution_count": 18,
   "metadata": {
    "scrolled": true
   },
   "outputs": [],
   "source": [
    "b = receitas['massas'].keys()\n",
    "massas = []\n",
    "for a in b:\n",
    "    massas.append(a)\n",
    "    \n",
    "# Criando uma lista de checkboxes com todos lanches possíveis\n",
    "    #obs: utiliza-se a técnica de list compreehension\n",
    "massasPossiveis = [widgets.Checkbox(value = False,description = label) for label in massas]\n",
    "    # Removendo o primeiro elemento da lista (campo nulo):\n",
    "porcoesMassas = [widgets.Dropdown(options = [i for i in range(1,11)]) for i in range(len(massasPossiveis))]\n",
    "    # Inserindo título nas listas\n",
    "massasPossiveis.insert(0, widgets.Label('Massa',layout = widgets.Layout(width = '50%',\n",
    "                                                                          display=\"flex\", justify_content=\"flex-end\")))\n",
    "porcoesMassas.insert(0,widgets.Label('Porcoes'))\n",
    "\n",
    "# Criando a estrutura de exibição\n",
    "opcoesMassas = widgets.VBox(massasPossiveis)\n",
    "quantidadeMassas = widgets.VBox(porcoesMassas)\n",
    "estruturaMassas = widgets.HBox([opcoesMassas,quantidadeMassas])"
   ]
  },
  {
   "cell_type": "code",
   "execution_count": 19,
   "metadata": {},
   "outputs": [],
   "source": [
    "b = receitas['sobremesas'].keys()\n",
    "sobremesas = []\n",
    "for a in b:\n",
    "    sobremesas.append(a)\n",
    "    \n",
    "# Criando uma lista de checkboxes com todos lanches possíveis\n",
    "    #obs: utiliza-se a técnica de list compreehension\n",
    "sobremesasPossiveis = [widgets.Checkbox(value = False,description = label) for label in sobremesas]\n",
    "    # Removendo o primeiro elemento da lista (campo nulo):\n",
    "porcoesSobremesas = [widgets.Dropdown(options = [i for i in range(1,11)]) for i in range(len(sobremesasPossiveis))]\n",
    "    # Inserindo título nas listas\n",
    "sobremesasPossiveis.insert(0, widgets.Label('Sobremesa',layout = widgets.Layout(width = '50%',\n",
    "                                                                          display=\"flex\", justify_content=\"flex-end\")))\n",
    "porcoesSobremesas.insert(0,widgets.Label('Quantidade'))\n",
    "\n",
    "# Criando a estrutura de exibição\n",
    "opcoesSobremesas = widgets.VBox(sobremesasPossiveis)\n",
    "quantidadeSobremesas = widgets.VBox(porcoesSobremesas)\n",
    "estruturaSobremesas = widgets.HBox([opcoesSobremesas,quantidadeSobremesas])"
   ]
  },
  {
   "cell_type": "code",
   "execution_count": 20,
   "metadata": {},
   "outputs": [],
   "source": [
    "b = receitas['caldos'].keys()\n",
    "caldos = []\n",
    "for a in b:\n",
    "    caldos.append(a)\n",
    "    \n",
    "# Criando uma lista de checkboxes com todos caldos possíveis\n",
    "    #obs: utiliza-se a técnica de list compreehension\n",
    "caldosPossiveis = [widgets.Checkbox(value = False,description = label) for label in caldos]\n",
    "    # Removendo o primeiro elemento da lista (campo nulo):\n",
    "porcoesCaldos = [widgets.Dropdown(options = [i for i in range(1,11)]) for i in range(len(caldosPossiveis))]\n",
    "    # Inserindo título nas listas\n",
    "caldosPossiveis.insert(0, widgets.Label('Caldos',layout = widgets.Layout(width = '50%',\n",
    "                                                                          display=\"flex\", justify_content=\"flex-end\")))\n",
    "porcoesCaldos.insert(0,widgets.Label('Porções'))\n",
    "\n",
    "# Criando a estrutura de exibição\n",
    "opcoesCaldos = widgets.VBox(caldosPossiveis)\n",
    "quantidadeCaldos = widgets.VBox(porcoesCaldos)\n",
    "estruturaCaldos = widgets.HBox([opcoesCaldos,quantidadeCaldos])"
   ]
  },
  {
   "cell_type": "code",
   "execution_count": 21,
   "metadata": {},
   "outputs": [],
   "source": [
    "b = receitas['porcoes'].keys()\n",
    "porcoes = []\n",
    "for a in b:\n",
    "    porcoes.append(a)\n",
    "    \n",
    "# Criando uma lista de checkboxes com todos caldos possíveis\n",
    "    #obs: utiliza-se a técnica de list compreehension\n",
    "porcoesPossiveis = [widgets.Checkbox(value = False,description = label) for label in porcoes]\n",
    "    # Removendo o primeiro elemento da lista (campo nulo):\n",
    "porcoesPorcoes = [widgets.Dropdown(options = [i for i in range(1,11)]) for i in range(len(porcoesPossiveis))]\n",
    "    # Inserindo título nas listas\n",
    "porcoesPossiveis.insert(0, widgets.Label('Caldos',layout = widgets.Layout(width = '50%',\n",
    "                                                                          display=\"flex\", justify_content=\"flex-end\")))\n",
    "porcoesPorcoes.insert(0,widgets.Label('Porções'))\n",
    "# Criando a estrutura de exibição\n",
    "opcoesPorcoes = widgets.VBox(porcoesPossiveis)\n",
    "quantidadePorcoes = widgets.VBox(porcoesPorcoes)\n",
    "estruturaPorcoes = widgets.HBox([opcoesPorcoes,quantidadePorcoes])"
   ]
  },
  {
   "cell_type": "markdown",
   "metadata": {},
   "source": [
    "### Bem vindo ao Rango!\n",
    "\n",
    "Escolha os alimentos que deseja cozinhar e gere seu lista de supermercado e cardápio semanal."
   ]
  },
  {
   "cell_type": "code",
   "execution_count": 64,
   "metadata": {},
   "outputs": [
    {
     "data": {
      "application/vnd.jupyter.widget-view+json": {
       "model_id": "7630bcf2ca7247e6a019c591348f68fc",
       "version_major": 2,
       "version_minor": 0
      },
      "text/plain": [
       "Accordion(children=(HBox(children=(VBox(children=(Label(value='Opção', layout=Layout(width='220px')), Checkbox…"
      ]
     },
     "metadata": {},
     "output_type": "display_data"
    }
   ],
   "source": [
    "accordion = widgets.Accordion(children=[estruturaLanches,\n",
    "                                        estruturaCaldos,\n",
    "                                        estruturaMassas,\n",
    "                                        estruturaPorcoes,\n",
    "                                        estruturaSobremesas,\n",
    "                                        displayFinal[0],\n",
    "                                        displayFinal[1],\n",
    "                                        displayFinal[2],\n",
    "                                        displayFinal[3],\n",
    "                                        displayFinal[4],\n",
    "                                        displayFinal[5],\n",
    "                                        displayFinal[6],\n",
    "                                        estruturaSucos],\n",
    "                              selected_index = None,\n",
    "                              layout = widgets.Layout(width='80%'))\n",
    "                             \n",
    "accordion.set_title(0, 'Lanches')\n",
    "accordion.set_title(1, 'Caldos')\n",
    "accordion.set_title(2, 'Massas')\n",
    "accordion.set_title(3, 'Porções')\n",
    "accordion.set_title(4, 'Sobremesas')\n",
    "accordion.set_title(5, 'Monte seu prato - 1')\n",
    "accordion.set_title(6, 'Monte seu prato - 2')\n",
    "accordion.set_title(7, 'Monte seu prato - 3')\n",
    "accordion.set_title(8, 'Monte seu prato - 4')\n",
    "accordion.set_title(9, 'Monte seu prato - 5')\n",
    "accordion.set_title(10, 'Monte seu prato - 6')\n",
    "accordion.set_title(11, 'Monte seu prato - 7')\n",
    "accordion.set_title(12, 'Sucos')\n",
    "accordion"
   ]
  },
  {
   "cell_type": "code",
   "execution_count": 23,
   "metadata": {},
   "outputs": [
    {
     "data": {
      "application/vnd.jupyter.widget-view+json": {
       "model_id": "6642e97386384d8b9245c5f780e78605",
       "version_major": 2,
       "version_minor": 0
      },
      "text/plain": [
       "VBox(children=(Button(description='Gerar Lista', icon='check', style=ButtonStyle(), tooltip='Click me'), Outpu…"
      ]
     },
     "metadata": {},
     "output_type": "display_data"
    }
   ],
   "source": [
    "# Unindos as escolhas num grande Dataframe\n",
    "button = widgets.Button(\n",
    "    description='Gerar Lista',\n",
    "    disabled=False,\n",
    "    button_style='', # 'success', 'info', 'warning', 'danger' or ''\n",
    "    tooltip='Click me',\n",
    "    icon='check' # (FontAwesome names without the `fa-` prefix)\n",
    ")\n",
    "\n",
    "output = widgets.Output()\n",
    "\n",
    "def gerarLista(event, nPratos = pratos):\n",
    "    with output:\n",
    "        clear_output()\n",
    "        receitas = yaml.load(open('receitas.yaml'), Loader = yaml.FullLoader)\n",
    "        todosIngredientes = []\n",
    "        alimentoDaVez = []\n",
    "        # lanches\n",
    "        for i in range(1, len(checkboxes)):\n",
    "            if checkboxes[i].value == True:\n",
    "                alimentoDaVez = receitas['lanches'][checkboxes[i].description]\n",
    "                multiplicador = quantidades[i].value\n",
    "                quantidadeIngredientes = len(alimentoDaVez)\n",
    "                for f in range(0,quantidadeIngredientes):\n",
    "                    alimentoDaVez[f][1] = alimentoDaVez[f][1]*multiplicador\n",
    "                todosIngredientes = todosIngredientes + alimentoDaVez\n",
    "        # Sobremesas\n",
    "        for i in range(1,len(sobremesasPossiveis)):\n",
    "            if sobremesasPossiveis[i].value == True:\n",
    "                alimentoDaVez = receitas['sobremesas'][sobremesasPossiveis[i].description]\n",
    "                multiplicador = porcoesSobremesas[i].value\n",
    "                quantidadeIngredientes = len(alimentoDaVez)\n",
    "                for f in range(0,quantidadeIngredientes):\n",
    "                    alimentoDaVez[f][1] = alimentoDaVez[f][1]*multiplicador\n",
    "                todosIngredientes = todosIngredientes + alimentoDaVez\n",
    "        # Caldos\n",
    "        for i in range(1,len(caldosPossiveis)):\n",
    "            if caldosPossiveis[i].value == True:\n",
    "                alimentoDaVez = receitas['caldos'][caldosPossiveis[i].description]\n",
    "                multiplicador = porcoesCaldos[i].value\n",
    "                quantidadeIngredientes = len(alimentoDaVez)\n",
    "                for f in range(0,quantidadeIngredientes):\n",
    "                    alimentoDaVez[f][1] = alimentoDaVez[f][1]*multiplicador\n",
    "                todosIngredientes = todosIngredientes + alimentoDaVez    \n",
    "        # sucos\n",
    "        for i in range(1,len(sucosPossiveis)):\n",
    "            if sucosPossiveis[i].value == True:\n",
    "                alimentoDaVez = receitas['sucos'][sucosPossiveis[i].description]\n",
    "                multiplicador = litros[i].value\n",
    "                quantidadeIngredientes = len(alimentoDaVez)\n",
    "                for f in range(0,quantidadeIngredientes):\n",
    "                    alimentoDaVez[f][1] = alimentoDaVez[f][1]*multiplicador\n",
    "                todosIngredientes = todosIngredientes + alimentoDaVez\n",
    "        # Tiragostos\n",
    "        for i in range(1,len(sucosPossiveis)):\n",
    "            if porcoesPossiveis[i].value == True:\n",
    "                alimentoDaVez = receitas['porcoes'][porcoesPossiveis[i].description]\n",
    "                multiplicador = porcoesPorcoes[i].value\n",
    "                quantidadeIngredientes = len(alimentoDaVez)\n",
    "                for f in range(0,quantidadeIngredientes):\n",
    "                    alimentoDaVez[f][1] = alimentoDaVez[f][1]*multiplicador\n",
    "                todosIngredientes = todosIngredientes + alimentoDaVez    \n",
    "        # monte seu prato     \n",
    "        receitas = yaml.load(open('receitas.yaml'), Loader = yaml.FullLoader)\n",
    "        for i in range(nPratos):\n",
    "            # guarnicao 1\n",
    "                alimentoDaVez = receitas['guarnicoes'][guarnicao1[i].value]\n",
    "                multiplicador = multiplicadores[i].value\n",
    "                quantidadeIngredientes = len(alimentoDaVez)\n",
    "                for f in range(0,quantidadeIngredientes):\n",
    "                    alimentoDaVez[f][1] = alimentoDaVez[f][1]*multiplicador\n",
    "                todosIngredientes = todosIngredientes + alimentoDaVez\n",
    "                \n",
    "                # guarnicao 2\n",
    "                alimentoDaVez = receitas['guarnicoes'][guarnicao2[i].value]\n",
    "                multiplicador = multiplicadores[i].value\n",
    "                quantidadeIngredientes = len(alimentoDaVez)\n",
    "                for f in range(0,quantidadeIngredientes):\n",
    "                    alimentoDaVez[f][1] = alimentoDaVez[f][1]*multiplicador\n",
    "                todosIngredientes = todosIngredientes + alimentoDaVez\n",
    "                \n",
    "                # guarnicao 3\n",
    "                alimentoDaVez = receitas['guarnicoes'][guarnicao3[i].value]\n",
    "                multiplicador = multiplicadores[i].value\n",
    "                quantidadeIngredientes = len(alimentoDaVez)\n",
    "                for f in range(0,quantidadeIngredientes):\n",
    "                    alimentoDaVez[f][1] = alimentoDaVez[f][1]*multiplicador\n",
    "                todosIngredientes = todosIngredientes + alimentoDaVez \n",
    "                \n",
    "                # carne\n",
    "                alimentoDaVez = receitas['carnes'][carne[i].value]\n",
    "                multiplicador = multiplicadores[i].value\n",
    "                quantidadeIngredientes = len(alimentoDaVez)\n",
    "                for f in range(0,quantidadeIngredientes):\n",
    "                    alimentoDaVez[f][1] = alimentoDaVez[f][1]*multiplicador\n",
    "                todosIngredientes = todosIngredientes + alimentoDaVez\n",
    "                \n",
    "                # salada\n",
    "                alimentoDaVez = receitas['saladas'][salada[i].value]\n",
    "                multiplicador = multiplicadores[i].value\n",
    "                quantidadeIngredientes = len(alimentoDaVez)\n",
    "                for f in range(0,quantidadeIngredientes):\n",
    "                    alimentoDaVez[f][1] = alimentoDaVez[f][1]*multiplicador\n",
    "                todosIngredientes = todosIngredientes + alimentoDaVez                \n",
    "          \n",
    "            \n",
    "        df = pd.DataFrame(columns = ['Ingrediente','Quantidade','Unidade','Local'], data = todosIngredientes)\n",
    "        lista = df.groupby('Ingrediente').sum()\n",
    "        unidades = df.groupby('Ingrediente')['Unidade'].min()\n",
    "        local = df.groupby('Ingrediente')['Local'].min()\n",
    "        df = pd.concat([lista, unidades, local], axis = 1)\n",
    "        df = df.sort_values(by ='Local')\n",
    "        df.to_csv('teste.csv')\n",
    "        display(df)\n",
    "        \n",
    "button.on_click(gerarLista)\n",
    "vbox_result = widgets.VBox([button, output])\n",
    "vbox_result"
   ]
  },
  {
   "cell_type": "code",
   "execution_count": 24,
   "metadata": {},
   "outputs": [
    {
     "data": {
      "application/vnd.jupyter.widget-view+json": {
       "model_id": "0223d72cac5944f9a49dcb9f9c838f6b",
       "version_major": 2,
       "version_minor": 0
      },
      "text/plain": [
       "VBox(children=(Button(description='Gerar Cardápio', icon='check', style=ButtonStyle(), tooltip='Click me'), Ou…"
      ]
     },
     "metadata": {},
     "output_type": "display_data"
    }
   ],
   "source": [
    "button2 = widgets.Button(\n",
    "    description='Gerar Cardápio',\n",
    "    disabled=False,\n",
    "    button_style='', # 'success', 'info', 'warning', 'danger' or ''\n",
    "    tooltip='Click me',\n",
    "    icon='check' # (FontAwesome names without the `fa-` prefix)\n",
    ")\n",
    "\n",
    "out = widgets.Output()\n",
    "\n",
    "def gerarCardapio(event):\n",
    "    with out:\n",
    "        clear_output()\n",
    "        todosPratos = []\n",
    "        porcoesPratos = []\n",
    "        # lanches\n",
    "        for i in range(0, len(checkboxes)):\n",
    "            if checkboxes[i].value == True:\n",
    "                todosPratos.append(checkboxes[i].description)\n",
    "                porcoesPratos.append(quantidades[i].value)\n",
    "        # sucos\n",
    "        for i in range(0,len(sucosPossiveis)):\n",
    "            if sucosPossiveis[i].value == True:\n",
    "                todosPratos.append(sucosPossiveis[i].description)\n",
    "                porcoesPratos.append(litros[i].value)\n",
    "        # sobremesas\n",
    "        for i in range(0,len(sobremesasPossiveis)):\n",
    "            if sobremesasPossiveis[i].value == True:\n",
    "                todosPratos.append(sobremesasPossiveis[i].description)\n",
    "                porcoesPratos.append(porcoesSobremesas[i].value)\n",
    "        # caldos\n",
    "        for i in range(0,len(caldosPossiveis)):\n",
    "            if caldosPossiveis[i].value == True:\n",
    "                todosPratos.append(caldosPossiveis[i].description)\n",
    "                porcoesPratos.append(porcoesCaldos[i].value)\n",
    "        # tira-gostos\n",
    "        for i in range(0,len(porcoesPossiveis)):\n",
    "            if porcoesPossiveis[i].value == True:\n",
    "                todosPratos.append(porcoesPossiveis[i].description)\n",
    "                porcoesPratos.append(porcoesPorcoes[i].value)\n",
    "        # massas\n",
    "        for i in range(0,len(massasPossiveis)):\n",
    "            if massasPossiveis[i].value == True:\n",
    "                todosPratos.append(massasPossiveis[i].description)\n",
    "                porcoesPratos.append(porcoesMassas[i].value)\n",
    "        # monte seu prato        \n",
    "        for i in range(pratos):\n",
    "            prato = guarnicao1[i].value + ', ' + guarnicao2[i].value + ', ' +\\\n",
    "                    guarnicao3[i].value + ', ' + carne[i].value + ', ' +\\\n",
    "                    salada[i].value\n",
    "            if prato[0] != '-':\n",
    "                todosPratos.append(prato)\n",
    "                porcoesPratos.append(multiplicadores[i].value)\n",
    "\n",
    "        df = pd.DataFrame(data = {'Pratos': todosPratos,'Quantidade': porcoesPratos})\n",
    "        df.to_csv('cardapio.csv')\n",
    "        display(df)\n",
    "        \n",
    "button2.on_click(gerarCardapio)\n",
    "vbox_cardapio = widgets.VBox([button2, out])\n",
    "vbox_cardapio"
   ]
  },
  {
   "cell_type": "markdown",
   "metadata": {},
   "source": [
    "### Bom apetite!\n",
    "\n",
    "Contato do desenvolvedor:\n",
    "https://www.linkedin.com/in/lucas-rocha-rodrigues-20014b191/"
   ]
  },
  {
   "cell_type": "code",
   "execution_count": 25,
   "metadata": {},
   "outputs": [],
   "source": [
    "#! pip freeze > requirements.txt"
   ]
  },
  {
   "cell_type": "code",
   "execution_count": 26,
   "metadata": {},
   "outputs": [],
   "source": [
    "#FileLink('teste.csv') #lists all downloadable files on server"
   ]
  }
 ],
 "metadata": {
  "kernelspec": {
   "display_name": "Python 3",
   "language": "python",
   "name": "python3"
  },
  "language_info": {
   "codemirror_mode": {
    "name": "ipython",
    "version": 3
   },
   "file_extension": ".py",
   "mimetype": "text/x-python",
   "name": "python",
   "nbconvert_exporter": "python",
   "pygments_lexer": "ipython3",
   "version": "3.7.3"
  }
 },
 "nbformat": 4,
 "nbformat_minor": 4
}
