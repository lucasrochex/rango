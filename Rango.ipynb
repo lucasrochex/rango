{
 "cells": [
  {
   "cell_type": "code",
   "execution_count": 1,
   "metadata": {},
   "outputs": [],
   "source": [
    "import yaml\n",
    "import ipywidgets as widgets"
   ]
  },
  {
   "cell_type": "code",
   "execution_count": 2,
   "metadata": {},
   "outputs": [],
   "source": [
    "from IPython.display import display, clear_output"
   ]
  },
  {
   "cell_type": "code",
   "execution_count": 3,
   "metadata": {},
   "outputs": [],
   "source": [
    "#!jupyter nbextension enable --py widgetsnbextension --sys-prefix\n",
    "#!jupyter serverextension enable voila --sys-prefix"
   ]
  },
  {
   "cell_type": "code",
   "execution_count": 4,
   "metadata": {},
   "outputs": [],
   "source": [
    "import pandas as pd"
   ]
  },
  {
   "cell_type": "code",
   "execution_count": 5,
   "metadata": {},
   "outputs": [],
   "source": [
    "receitas = yaml.load(open('receitas.yaml'), Loader = yaml.FullLoader)"
   ]
  },
  {
   "cell_type": "code",
   "execution_count": 6,
   "metadata": {},
   "outputs": [],
   "source": [
    "#receitas"
   ]
  },
  {
   "cell_type": "code",
   "execution_count": 7,
   "metadata": {},
   "outputs": [],
   "source": [
    "prato1 = receitas['lanches']['bolo de cenoura']"
   ]
  },
  {
   "cell_type": "code",
   "execution_count": 8,
   "metadata": {},
   "outputs": [],
   "source": [
    "dfTeste = pd.DataFrame(columns = ['Ingrediente','Quantidade','Unidade','Local'], data = prato1)"
   ]
  },
  {
   "cell_type": "code",
   "execution_count": 9,
   "metadata": {},
   "outputs": [],
   "source": [
    "prato2 = receitas['lanches']['torta de frango diet']"
   ]
  },
  {
   "cell_type": "code",
   "execution_count": 10,
   "metadata": {},
   "outputs": [],
   "source": [
    "todosIngredientes = prato1 + prato2"
   ]
  },
  {
   "cell_type": "code",
   "execution_count": 11,
   "metadata": {},
   "outputs": [],
   "source": [
    "dfTeste = pd.DataFrame(columns = ['Ingrediente','Quantidade','Unidade','Local'], data = todosIngredientes)"
   ]
  },
  {
   "cell_type": "code",
   "execution_count": 12,
   "metadata": {},
   "outputs": [],
   "source": [
    "b = receitas['lanches'].keys()\n",
    "c = receitas['lanches'].items()"
   ]
  },
  {
   "cell_type": "code",
   "execution_count": 13,
   "metadata": {},
   "outputs": [],
   "source": [
    "lanches = []\n",
    "for a in b:\n",
    "    lanches.append(a)"
   ]
  },
  {
   "cell_type": "code",
   "execution_count": 14,
   "metadata": {},
   "outputs": [],
   "source": [
    "ingredientes = []\n",
    "for a in b:\n",
    "    size = len(receitas['lanches'][a])\n",
    "    i = 0\n",
    "    for i in range(size):\n",
    "        ingrediente = receitas['lanches'][a][i][0]\n",
    "        ingredientes.append(ingrediente)\n",
    "        "
   ]
  },
  {
   "cell_type": "code",
   "execution_count": 15,
   "metadata": {},
   "outputs": [],
   "source": [
    "#ingredientes"
   ]
  },
  {
   "cell_type": "markdown",
   "metadata": {},
   "source": [
    "### Lanches"
   ]
  },
  {
   "cell_type": "code",
   "execution_count": 16,
   "metadata": {},
   "outputs": [
    {
     "data": {
      "application/vnd.jupyter.widget-view+json": {
       "model_id": "161b2e97f8a14e57b368fe9604e44cff",
       "version_major": 2,
       "version_minor": 0
      },
      "text/plain": [
       "GridBox(children=(Checkbox(value=False, description='bolo de cenoura'), Checkbox(value=False, description='tap…"
      ]
     },
     "metadata": {},
     "output_type": "display_data"
    }
   ],
   "source": [
    "# Criando uma lista de checkboxes com todos lanches possíveis\n",
    "    #obs: utiliza-se a técnica de list compreehension\n",
    "checkboxes = [widgets.Checkbox(value = False,description = label) for label in lanches]\n",
    "widgets.GridBox(checkboxes, layout = widgets.Layout(grid_template_columns = 'repeat(3, 200px)'))\n"
   ]
  },
  {
   "cell_type": "markdown",
   "metadata": {},
   "source": [
    "### Sucos "
   ]
  },
  {
   "cell_type": "code",
   "execution_count": 17,
   "metadata": {},
   "outputs": [],
   "source": [
    "b = receitas['sucos'].keys()\n",
    "sucos = []\n",
    "for a in b:\n",
    "    sucos.append(a)"
   ]
  },
  {
   "cell_type": "code",
   "execution_count": 18,
   "metadata": {},
   "outputs": [
    {
     "data": {
      "application/vnd.jupyter.widget-view+json": {
       "model_id": "ad4c94667d124147a03bf1f3d4af9820",
       "version_major": 2,
       "version_minor": 0
      },
      "text/plain": [
       "GridBox(children=(Checkbox(value=False, description='abacaxi com hortela (1 L)'), Checkbox(value=False, descri…"
      ]
     },
     "metadata": {},
     "output_type": "display_data"
    }
   ],
   "source": [
    "sucosPossiveis = [widgets.Checkbox(value = False,description = label) for label in sucos]\n",
    "widgets.GridBox(sucosPossiveis, layout = widgets.Layout(grid_template_columns = 'repeat(3, 200px)'))\n"
   ]
  },
  {
   "cell_type": "code",
   "execution_count": 32,
   "metadata": {},
   "outputs": [
    {
     "data": {
      "application/vnd.jupyter.widget-view+json": {
       "model_id": "41398c52669a4197b9aa601203290f74",
       "version_major": 2,
       "version_minor": 0
      },
      "text/plain": [
       "VBox(children=(Button(description='Gerar Lista', icon='check', style=ButtonStyle(), tooltip='Click me'), Outpu…"
      ]
     },
     "metadata": {},
     "output_type": "display_data"
    }
   ],
   "source": [
    "# Unindos as escolhas num grande Dataframe\n",
    "button = widgets.Button(\n",
    "    description='Gerar Lista',\n",
    "    disabled=False,\n",
    "    button_style='', # 'success', 'info', 'warning', 'danger' or ''\n",
    "    tooltip='Click me',\n",
    "    icon='check' # (FontAwesome names without the `fa-` prefix)\n",
    ")\n",
    "\n",
    "output = widgets.Output()\n",
    "\n",
    "def gerarLista(event):\n",
    "    with output:\n",
    "        clear_output()\n",
    "        todosIngredientes = []\n",
    "        # lanches\n",
    "        for i in range(0, len(checkboxes)):\n",
    "            if checkboxes[i].value == True:\n",
    "                todosIngredientes = todosIngredientes + receitas['lanches'][checkboxes[i].description]\n",
    "        # sucos\n",
    "        for i in range(0,len(sucosPossiveis)):\n",
    "            if sucosPossiveis[i].value == True:\n",
    "                todosIngredientes = todosIngredientes + receitas['sucos'][sucosPossiveis[i].description]\n",
    "\n",
    "        df = pd.DataFrame(columns = ['Ingrediente','Quantidade','Unidade','Local'], data = todosIngredientes)\n",
    "        lista = df.groupby('Ingrediente').sum()\n",
    "        unidades = df.groupby('Ingrediente')['Unidade'].min()\n",
    "        local = df.groupby('Ingrediente')['Local'].min()\n",
    "        df = pd.concat([lista, unidades, local], axis = 1)\n",
    "        df = df.sort_values(by ='Local')\n",
    "        df.to_csv('teste.csv')\n",
    "        #print(df)\n",
    "        display(df)\n",
    "        \n",
    "button.on_click(gerarLista)\n",
    "vbox_result = widgets.VBox([button, output])\n",
    "vbox_result"
   ]
  },
  {
   "cell_type": "code",
   "execution_count": 21,
   "metadata": {},
   "outputs": [
    {
     "data": {
      "text/html": [
       "<div>\n",
       "<style scoped>\n",
       "    .dataframe tbody tr th:only-of-type {\n",
       "        vertical-align: middle;\n",
       "    }\n",
       "\n",
       "    .dataframe tbody tr th {\n",
       "        vertical-align: top;\n",
       "    }\n",
       "\n",
       "    .dataframe thead th {\n",
       "        text-align: right;\n",
       "    }\n",
       "</style>\n",
       "<table border=\"1\" class=\"dataframe\">\n",
       "  <thead>\n",
       "    <tr style=\"text-align: right;\">\n",
       "      <th></th>\n",
       "      <th>Quantidade</th>\n",
       "      <th>Unidade</th>\n",
       "      <th>Local</th>\n",
       "    </tr>\n",
       "    <tr>\n",
       "      <th>Ingrediente</th>\n",
       "      <th></th>\n",
       "      <th></th>\n",
       "      <th></th>\n",
       "    </tr>\n",
       "  </thead>\n",
       "  <tbody>\n",
       "    <tr>\n",
       "      <th>file de peito</th>\n",
       "      <td>300</td>\n",
       "      <td>g</td>\n",
       "      <td>acogue</td>\n",
       "    </tr>\n",
       "    <tr>\n",
       "      <th>maracuja</th>\n",
       "      <td>2</td>\n",
       "      <td>un</td>\n",
       "      <td>sacolao</td>\n",
       "    </tr>\n",
       "    <tr>\n",
       "      <th>acucar</th>\n",
       "      <td>1</td>\n",
       "      <td>copo</td>\n",
       "      <td>supermercado</td>\n",
       "    </tr>\n",
       "    <tr>\n",
       "      <th>farinha trigo</th>\n",
       "      <td>3</td>\n",
       "      <td>xicaras</td>\n",
       "      <td>supermercado</td>\n",
       "    </tr>\n",
       "    <tr>\n",
       "      <th>oleo</th>\n",
       "      <td>1</td>\n",
       "      <td>copo</td>\n",
       "      <td>supermercado</td>\n",
       "    </tr>\n",
       "    <tr>\n",
       "      <th>sal</th>\n",
       "      <td>1</td>\n",
       "      <td>a gosto</td>\n",
       "      <td>supermercado</td>\n",
       "    </tr>\n",
       "  </tbody>\n",
       "</table>\n",
       "</div>"
      ],
      "text/plain": [
       "               Quantidade  Unidade         Local\n",
       "Ingrediente                                     \n",
       "file de peito         300        g        acogue\n",
       "maracuja                2       un       sacolao\n",
       "acucar                  1     copo  supermercado\n",
       "farinha trigo           3  xicaras  supermercado\n",
       "oleo                    1     copo  supermercado\n",
       "sal                     1  a gosto  supermercado"
      ]
     },
     "execution_count": 21,
     "metadata": {},
     "output_type": "execute_result"
    }
   ],
   "source": [
    "todosIngredientes = []\n",
    "# lanches\n",
    "for i in range(0, len(checkboxes)):\n",
    "    if checkboxes[i].value == True:\n",
    "        todosIngredientes = todosIngredientes + receitas['lanches'][checkboxes[i].description]\n",
    "    # sucos\n",
    "for i in range(0,len(sucosPossiveis)):\n",
    "    if sucosPossiveis[i].value == True:\n",
    "        todosIngredientes = todosIngredientes + receitas['sucos'][sucosPossiveis[i].description]\n",
    "        \n",
    "df = pd.DataFrame(columns = ['Ingrediente','Quantidade','Unidade','Local'], data = todosIngredientes)\n",
    "lista = df.groupby('Ingrediente').sum()\n",
    "unidades = df.groupby('Ingrediente')['Unidade'].min()\n",
    "local = df.groupby('Ingrediente')['Local'].min()\n",
    "df = pd.concat([lista, unidades, local], axis = 1)\n",
    "df = df.sort_values(by ='Local')\n",
    "df"
   ]
  },
  {
   "cell_type": "code",
   "execution_count": 1,
   "metadata": {},
   "outputs": [],
   "source": [
    "! pip freeze > requirements.txt"
   ]
  },
  {
   "cell_type": "code",
   "execution_count": null,
   "metadata": {},
   "outputs": [],
   "source": []
  }
 ],
 "metadata": {
  "kernelspec": {
   "display_name": "Python 3",
   "language": "python",
   "name": "python3"
  },
  "language_info": {
   "codemirror_mode": {
    "name": "ipython",
    "version": 3
   },
   "file_extension": ".py",
   "mimetype": "text/x-python",
   "name": "python",
   "nbconvert_exporter": "python",
   "pygments_lexer": "ipython3",
   "version": "3.7.3"
  }
 },
 "nbformat": 4,
 "nbformat_minor": 4
}
